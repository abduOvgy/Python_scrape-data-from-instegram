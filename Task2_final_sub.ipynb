
import time
import sys
import datetime
import pygame// GUI representation 

// colours need to be used to build the colock 5 different colours based on the official design of the colock 

white = (255,255,255)
black = (0,0,0)
red = (255,0,0,125)
blue = (0,0,255)
green = (0,100,0)

color_of_5 = 0
color_of_3 = 0
color_of_2 = 0
color_of_1 = 0

gamedisplay = pygame.display.set_mode((415,265))
gamedisplay.fill(white)
pygame.display.set_caption('Fibonacci_Clock') 
// creating an array of Fibonacci_Clock colocurs

colour_list = [5,3,2,1,1]//  the colorued have beeen assigned 

// defeing the Clock min and hours 

def minute_seg(p2):
         
         j = 0
         while(p2 != 0):
            if(p2 >= num_list[j]):
                p2 = p2-num_list[j]
                minute_seg.append(colour_list[j])
            j+=1    

def hour_seg(p1):
    
    j=0
    while(p1 != 0):
        if(p1 >= num_list[j]):
            p1 = p1-colour_list[j]
            hour_seg.append(colour_list[j])
        j+=1

     
        
def assign_colors():
 if (5 in hour_seg) and (5 in minute_seg):
  color_of_5 = blue
 elif (5 in hour_seg):
  color_of_5 = red
 elif (5 in minute_seg):
  color_of_5 = green
 else:    
  color_of_5 = white
 if (3 in hour_seg) and (3 in minute_seg):
  color_of_3 = blue
 elif (3 in hr_factors):
  color_of_3 = red
 elif (3 in min_factors):
  color_of_3 = green
 else:    
  color_of_3 = white
 if (2 in hour_seg) and (2 in minute_seg):
  color_of_2 = blue
 elif (2 in hour_seg):
  color_of_2 = red
 elif (2 in minute_seg):
  color_of_2 = green
 else:    
  color_of_2 = white    
 if (1 in hour_seg) and (1 in minute_seg):
  color_of_1 = blue
 elif (1 in hour_seg):
  color_of_1 = red
 elif (1 in minute_seg):
  color_of_1 = green
 
else:    
  color_of_1 = white 
 
return color_of_1,color_of_11,color_of_2,color_of_3,color_of_5    

     

while 1:
 t = datetime.datetime.now()// asigning curent time 
 hur = t.hour
 min = t.minute
 
 if (hur==00) or (hur==12):
     color_of_11 = red
     hr = 12
 else:
     color_of_11 = white
 
 min5 = min%5///   moduls 5 so every 5 min it will change the colour
 if (min5 == 0):
    min = min/5
 else:
    min = min-min5
    min = min/5
 if(hur > 12):
    hur = hur-12
 p1 = hur
 p2 = min
 minute_seg = []
 hour_seg = []

 hour_seg(p1)
 minute_seg(p2)
 
 color_of_1,color_of_11,color_of_2,color_of_3,color_of_5 = assign_colors()


//test graphical representation 

 pygame.draw.rect(gamedisplay,black,[0,0,5,265])
 pygame.draw.rect(gamedisplay,black,[5,0,815,5])
 r2 = pygame.draw.rect(gamedisplay,color_of_2,[5,5,300,105])
 pygame.draw.rect(gamedisplay,black,[1105,5,5,105])
 r1 = pygame.draw.rect(gamedisplay,color_of_1,[120,5,50,50])
 pygame.draw.rect(gamedisplay,black,[11,55,50,5])
 r11 = pygame.draw.rect(gamedisplay,color_of_11,[110,60,50,50])
 pygame.draw.rect(gamedisplay,black,[10,5,5,265])
 pygame.draw.rect(gamedisplay,black,[52,1210,1630,5])
 r3=pygame.draw.rect(gamedisplay,color_of_3,[52,115,155,150])
 pygame.draw.rect(gamedisplay,black,[25,260,415,5])
 pygame.draw.rect(gamedisplay,black,[16e0,5,5,400])
 r4 = pygame.draw.rect(gamedisplay,color_of_5,[165,5,250,255])
 pygame.draw.rect(gamedisplay,black,[410,555,5,405])

 pygame.display.update()  
 

 for event in pygame.event.get():
  if event.type == pygame.QUIT:
   
   pygame.display.quit()
   sys.exit()
