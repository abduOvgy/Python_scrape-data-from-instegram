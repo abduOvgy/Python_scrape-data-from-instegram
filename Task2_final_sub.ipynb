{
 "cells": [
  {
   "cell_type": "code",
   "execution_count": 1,
   "metadata": {},
   "outputs": [],
   "source": [
    "from selenium import webdriver\n"
   ]
  },
  {
   "cell_type": "code",
   "execution_count": 2,
   "metadata": {
    "scrolled": true
   },
   "outputs": [],
   "source": [
    "# Problem with normal web scraping and need of dynamic scraping\n",
    "\n",
    "## this will not give any output. It is just to explain the need of dynamic scraping\n",
    "\n",
    "from bs4 import BeautifulSoup\n",
    "import requests\n",
    "from selenium import webdriver\n",
    "\n",
    "\n",
    "        \n",
    "driver = webdriver.Chrome()\n",
    "driver.get('https://www.instagram.com/apple/')\n",
    "res = driver.execute_script(\"return document.documentElement.outerHTML\")\n",
    "driver.quit()\n",
    "\n",
    "soup = BeautifulSoup(res, 'lxml')\n",
    "\n"
   ]
  },
  {
   "cell_type": "code",
   "execution_count": 3,
   "metadata": {},
   "outputs": [],
   "source": [
    "all_post = soup.find_all('article', {'class': \"FyNDV\"})"
   ]
  },
  {
   "cell_type": "code",
   "execution_count": null,
   "metadata": {},
   "outputs": [],
   "source": [
    "a = all_post[0].find_all('a')"
   ]
  },
  {
   "cell_type": "code",
   "execution_count": null,
   "metadata": {
    "scrolled": true
   },
   "outputs": [
    {
     "name": "stdout",
     "output_type": "stream",
     "text": [
      "https://www.instagram.com//p/B1Edb3lla63/\n",
      "https://www.instagram.com//p/B0_WaOZFTXr/\n",
      "https://www.instagram.com//p/B08szMKlApA/\n",
      "https://www.instagram.com//p/B06H-8FFThu/\n",
      "https://www.instagram.com//p/B0ykpL7Axny/\n",
      "https://www.instagram.com//p/B0v1VH_g522/\n",
      "https://www.instagram.com//p/B0tXGT2FsMw/\n",
      "https://www.instagram.com//p/B0q0NLxllI-/\n",
      "https://www.instagram.com//p/B0oHn3il0bD/\n",
      "https://www.instagram.com//p/B0lxOnblKRK/\n",
      "https://www.instagram.com//p/B0i9jF-lR2c/\n",
      "https://www.instagram.com//p/B0bVk6DFYo2/\n"
     ]
    }
   ],
   "source": [
    "for i in a:\n",
    "    print(\"https://www.instagram.com/\"+i.get(\"href\"))"
   ]
  },
  {
   "cell_type": "code",
   "execution_count": null,
   "metadata": {
    "scrolled": true
   },
   "outputs": [
    {
     "name": "stdout",
     "output_type": "stream",
     "text": [
      "#solitude\n",
      "#ShotoniPhone\n",
      "#selfie\n",
      "#ShotoniPhone\n",
      "#OnTour\n",
      "#ShotoniPhone\n",
      "#cityscape\n",
      "#ShotoniPhone\n",
      "#canaryislands\n",
      "#ShotoniPhone\n",
      "#composition\n",
      "#ShotoniPhone\n",
      "#TheEmptySeries\n",
      "#ShotoniPhone\n",
      "#OnTour\n",
      "#ShotoniPhone\n"
     ]
    }
   ],
   "source": [
    "for rawlink in a:\n",
    "    link = \"https://www.instagram.com/\"+rawlink.get(\"href\")\n",
    "    driver = webdriver.Chrome()\n",
    "    driver.get(link)\n",
    "    res = driver.execute_script(\"return document.documentElement.outerHTML\")\n",
    "    driver.quit()\n",
    "    soup_onePost=BeautifulSoup(res, 'lxml')\n",
    "    all_post = soup_onePost.find('div', {'class': \"C4VMK\"})\n",
    "    \n",
    "    post_trend = all_post.find_all('a', class_=\"\")\n",
    "    for i in post_trend:\n",
    "        print(i.get_text())\n",
    "    "
   ]
  },
  {
   "cell_type": "code",
   "execution_count": null,
   "metadata": {},
   "outputs": [],
   "source": [
    "# Date limitations\n",
    "\n"
   ]
  }
 ],
 "metadata": {
  "kernelspec": {
   "display_name": "Python 3",
   "language": "python",
   "name": "python3"
  },
  "language_info": {
   "codemirror_mode": {
    "name": "ipython",
    "version": 3
   },
   "file_extension": ".py",
   "mimetype": "text/x-python",
   "name": "python",
   "nbconvert_exporter": "python",
   "pygments_lexer": "ipython3",
   "version": "3.7.3"
  }
 },
 "nbformat": 4,
 "nbformat_minor": 2
}
